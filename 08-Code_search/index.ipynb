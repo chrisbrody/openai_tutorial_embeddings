{
 "cells": [
  {
   "attachments": {},
   "cell_type": "markdown",
   "metadata": {},
   "source": [
    "# Code Search\n",
    "\n",
    "We index our own openai-python code repository, and show how it can be searched. We implement a simple version of file parsing and extracting of functions from python files."
   ]
  },
  {
   "cell_type": "code",
   "execution_count": 20,
   "metadata": {},
   "outputs": [
    {
     "name": "stdout",
     "output_type": "stream",
     "text": [
      "Total number of py files: 1\n",
      "Total number of functions extracted: 3\n"
     ]
    }
   ],
   "source": [
    "import os\n",
    "from glob import glob\n",
    "import pandas as pd\n",
    "\n",
    "def get_function_name(code):\n",
    "    \"\"\"\n",
    "    Extract function name from a line beginning with \"def \"\n",
    "    \"\"\"\n",
    "    assert code.startswith(\"def \")\n",
    "    return code[len(\"def \"): code.index(\"(\")]\n",
    "\n",
    "def get_until_no_space(all_lines, i) -> str:\n",
    "    \"\"\"\n",
    "    Get all lines until a line outside the function definition is found.\n",
    "    \"\"\"\n",
    "    ret = [all_lines[i]]\n",
    "    for j in range(i + 1, i + 10000):\n",
    "        if j < len(all_lines):\n",
    "            if len(all_lines[j]) == 0 or all_lines[j][0] in [\" \", \"\\t\", \")\"]:\n",
    "                ret.append(all_lines[j])\n",
    "            else:\n",
    "                break\n",
    "    return \"\\n\".join(ret)\n",
    "\n",
    "def get_functions(filepath):\n",
    "    \"\"\"\n",
    "    Get all functions in a Python file.\n",
    "    \"\"\"\n",
    "    whole_code = open(filepath).read().replace(\"\\r\", \"\\n\")\n",
    "    all_lines = whole_code.split(\"\\n\")\n",
    "    for i, l in enumerate(all_lines):\n",
    "        if l.startswith(\"def \"):\n",
    "            code = get_until_no_space(all_lines, i)\n",
    "            function_name = get_function_name(code)\n",
    "            yield {\"code\": code, \"function_name\": function_name, \"filepath\": filepath}\n",
    "\n",
    "\n",
    "# get user root directory\n",
    "root_dir = os.path.expanduser(\"~\")\n",
    "# note: for this code to work, the openai-python repo must be downloaded and placed in your root directory\n",
    "\n",
    "# path to code repository directory\n",
    "code_root = root_dir + \"/Desktop/work/openai/tutorials_embeddings/08-Code_search\"\n",
    "\n",
    "code_files = [y for x in os.walk(code_root) for y in glob(os.path.join(x[0], '*.py'))]\n",
    "print(\"Total number of py files:\", len(code_files))\n",
    "\n",
    "if len(code_files) == 0:\n",
    "    print(\"Double check that you have downloaded the openai-python repo and set the code_root variable correctly.\")\n",
    "\n",
    "all_funcs = []\n",
    "for code_file in code_files:\n",
    "    funcs = list(get_functions(code_file))\n",
    "    for func in funcs:\n",
    "        all_funcs.append(func)\n",
    "\n",
    "print(\"Total number of functions extracted:\", len(all_funcs))"
   ]
  },
  {
   "cell_type": "code",
   "execution_count": 24,
   "metadata": {},
   "outputs": [
    {
     "data": {
      "text/html": [
       "<div>\n",
       "<style scoped>\n",
       "    .dataframe tbody tr th:only-of-type {\n",
       "        vertical-align: middle;\n",
       "    }\n",
       "\n",
       "    .dataframe tbody tr th {\n",
       "        vertical-align: top;\n",
       "    }\n",
       "\n",
       "    .dataframe thead th {\n",
       "        text-align: right;\n",
       "    }\n",
       "</style>\n",
       "<table border=\"1\" class=\"dataframe\">\n",
       "  <thead>\n",
       "    <tr style=\"text-align: right;\">\n",
       "      <th></th>\n",
       "      <th>code</th>\n",
       "      <th>function_name</th>\n",
       "      <th>filepath</th>\n",
       "      <th>code_embedding</th>\n",
       "    </tr>\n",
       "  </thead>\n",
       "  <tbody>\n",
       "    <tr>\n",
       "      <th>0</th>\n",
       "      <td>def get_function_name(code):\\n    \"\"\"\\n    Ext...</td>\n",
       "      <td>get_function_name</td>\n",
       "      <td>\\index.py</td>\n",
       "      <td>[-0.004197466187179089, 0.012958620674908161, ...</td>\n",
       "    </tr>\n",
       "    <tr>\n",
       "      <th>1</th>\n",
       "      <td>def get_until_no_space(all_lines, i) -&gt; str:\\n...</td>\n",
       "      <td>get_until_no_space</td>\n",
       "      <td>\\index.py</td>\n",
       "      <td>[-0.01754911243915558, -0.011403732933104038, ...</td>\n",
       "    </tr>\n",
       "    <tr>\n",
       "      <th>2</th>\n",
       "      <td>def get_functions(filepath):\\n    \"\"\"\\n    Get...</td>\n",
       "      <td>get_functions</td>\n",
       "      <td>\\index.py</td>\n",
       "      <td>[0.0018158231396228075, -0.009596805088222027,...</td>\n",
       "    </tr>\n",
       "  </tbody>\n",
       "</table>\n",
       "</div>"
      ],
      "text/plain": [
       "                                                code       function_name  \\\n",
       "0  def get_function_name(code):\\n    \"\"\"\\n    Ext...   get_function_name   \n",
       "1  def get_until_no_space(all_lines, i) -> str:\\n...  get_until_no_space   \n",
       "2  def get_functions(filepath):\\n    \"\"\"\\n    Get...       get_functions   \n",
       "\n",
       "    filepath                                     code_embedding  \n",
       "0  \\index.py  [-0.004197466187179089, 0.012958620674908161, ...  \n",
       "1  \\index.py  [-0.01754911243915558, -0.011403732933104038, ...  \n",
       "2  \\index.py  [0.0018158231396228075, -0.009596805088222027,...  "
      ]
     },
     "execution_count": 24,
     "metadata": {},
     "output_type": "execute_result"
    }
   ],
   "source": [
    "from openai.embeddings_utils import get_embedding\n",
    "\n",
    "df = pd.DataFrame(all_funcs)\n",
    "df['code_embedding'] = df['code'].apply(lambda x: get_embedding(x, engine='text-embedding-ada-002'))\n",
    "df['filepath'] = df['filepath'].apply(lambda x: x.replace(code_root, \"\"))\n",
    "df.to_csv(\"../data/code_search_openai-python.csv\", index=False)\n",
    "df.head()"
   ]
  },
  {
   "cell_type": "code",
   "execution_count": 25,
   "metadata": {},
   "outputs": [
    {
     "name": "stdout",
     "output_type": "stream",
     "text": [
      "\\index.py:get_functions  score=0.651\n",
      "def get_functions(filepath):\n",
      "    \"\"\"\n",
      "    Get all functions in a Python file.\n",
      "    \"\"\"\n",
      "    whole_code = open(filepath).read().replace(\"\\r\", \"\\n\")\n",
      "    all_lines = whole_code.split(\"\\n\")\n",
      "    for i, l in enumerate(all_lines):\n",
      "----------------------------------------------------------------------\n",
      "\\index.py:get_until_no_space  score=0.647\n",
      "def get_until_no_space(all_lines, i) -> str:\n",
      "    \"\"\"\n",
      "    Get all lines until a line outside the function definition is found.\n",
      "    \"\"\"\n",
      "    ret = [all_lines[i]]\n",
      "    for j in range(i + 1, i + 10000):\n",
      "        if j < len(all_lines):\n",
      "----------------------------------------------------------------------\n",
      "\\index.py:get_function_name  score=0.63\n",
      "def get_function_name(code):\n",
      "    \"\"\"\n",
      "    Extract function name from a line beginning with \"def \"\n",
      "    \"\"\"\n",
      "    assert code.startswith(\"def \")\n",
      "    return code[len(\"def \"): code.index(\"(\")]\n",
      "\n",
      "----------------------------------------------------------------------\n"
     ]
    }
   ],
   "source": [
    "from openai.embeddings_utils import cosine_similarity\n",
    "\n",
    "def search_functions(df, code_query, n=3, pprint=True, n_lines=7):\n",
    "    embedding = get_embedding(code_query, engine='text-embedding-ada-002')\n",
    "    df['similarities'] = df.code_embedding.apply(lambda x: cosine_similarity(x, embedding))\n",
    "\n",
    "    res = df.sort_values('similarities', ascending=False).head(n)\n",
    "    if pprint:\n",
    "        for r in res.iterrows():\n",
    "            print(r[1].filepath+\":\"+r[1].function_name + \"  score=\" + str(round(r[1].similarities, 3)))\n",
    "            print(\"\\n\".join(r[1].code.split(\"\\n\")[:n_lines]))\n",
    "            print('-'*70)\n",
    "    return res\n",
    "\n",
    "res = search_functions(df, 'Completions API tests', n=3)"
   ]
  },
  {
   "cell_type": "code",
   "execution_count": 26,
   "metadata": {},
   "outputs": [
    {
     "name": "stdout",
     "output_type": "stream",
     "text": [
      "\\index.py:get_function_name  score=0.647\n",
      "def get_function_name(code):\n",
      "    \"\"\"\n",
      "    Extract function name from a line beginning with \"def \"\n",
      "    \"\"\"\n",
      "    assert code.startswith(\"def \")\n",
      "    return code[len(\"def \"): code.index(\"(\")]\n",
      "\n",
      "----------------------------------------------------------------------\n",
      "\\index.py:get_until_no_space  score=0.643\n",
      "def get_until_no_space(all_lines, i) -> str:\n",
      "    \"\"\"\n",
      "    Get all lines until a line outside the function definition is found.\n",
      "    \"\"\"\n",
      "    ret = [all_lines[i]]\n",
      "    for j in range(i + 1, i + 10000):\n",
      "        if j < len(all_lines):\n",
      "----------------------------------------------------------------------\n",
      "\\index.py:get_functions  score=0.616\n",
      "def get_functions(filepath):\n",
      "    \"\"\"\n",
      "    Get all functions in a Python file.\n",
      "    \"\"\"\n",
      "    whole_code = open(filepath).read().replace(\"\\r\", \"\\n\")\n",
      "    all_lines = whole_code.split(\"\\n\")\n",
      "    for i, l in enumerate(all_lines):\n",
      "----------------------------------------------------------------------\n"
     ]
    }
   ],
   "source": [
    "res = search_functions(df, 'fine-tuning input data validation logic', n=3)"
   ]
  },
  {
   "cell_type": "code",
   "execution_count": 27,
   "metadata": {},
   "outputs": [
    {
     "name": "stdout",
     "output_type": "stream",
     "text": [
      "\\index.py:get_function_name  score=0.68\n",
      "def get_function_name(code):\n",
      "    \"\"\"\n",
      "    Extract function name from a line beginning with \"def \"\n",
      "    \"\"\"\n",
      "    assert code.startswith(\"def \")\n",
      "    return code[len(\"def \"): code.index(\"(\")]\n",
      "\n",
      "----------------------------------------------------------------------\n",
      "\\index.py:get_until_no_space  score=0.647\n",
      "def get_until_no_space(all_lines, i) -> str:\n",
      "    \"\"\"\n",
      "    Get all lines until a line outside the function definition is found.\n",
      "    \"\"\"\n",
      "    ret = [all_lines[i]]\n",
      "    for j in range(i + 1, i + 10000):\n",
      "        if j < len(all_lines):\n",
      "            if len(all_lines[j]) == 0 or all_lines[j][0] in [\" \", \"\\t\", \")\"]:\n",
      "                ret.append(all_lines[j])\n",
      "            else:\n",
      "----------------------------------------------------------------------\n"
     ]
    }
   ],
   "source": [
    "res = search_functions(df, 'find common suffix', n=2, n_lines=10)"
   ]
  },
  {
   "cell_type": "code",
   "execution_count": 28,
   "metadata": {},
   "outputs": [
    {
     "name": "stdout",
     "output_type": "stream",
     "text": [
      "\\index.py:get_until_no_space  score=0.658\n",
      "def get_until_no_space(all_lines, i) -> str:\n",
      "    \"\"\"\n",
      "    Get all lines until a line outside the function definition is found.\n",
      "    \"\"\"\n",
      "    ret = [all_lines[i]]\n",
      "    for j in range(i + 1, i + 10000):\n",
      "        if j < len(all_lines):\n",
      "            if len(all_lines[j]) == 0 or all_lines[j][0] in [\" \", \"\\t\", \")\"]:\n",
      "                ret.append(all_lines[j])\n",
      "            else:\n",
      "                break\n",
      "    return \"\\n\".join(ret)\n",
      "\n",
      "----------------------------------------------------------------------\n"
     ]
    }
   ],
   "source": [
    "res = search_functions(df, 'Command line interface for fine-tuning', n=1, n_lines=20)"
   ]
  }
 ],
 "metadata": {
  "kernelspec": {
   "display_name": "Python 3",
   "language": "python",
   "name": "python3"
  },
  "language_info": {
   "codemirror_mode": {
    "name": "ipython",
    "version": 3
   },
   "file_extension": ".py",
   "mimetype": "text/x-python",
   "name": "python",
   "nbconvert_exporter": "python",
   "pygments_lexer": "ipython3",
   "version": "3.11.0"
  },
  "orig_nbformat": 4
 },
 "nbformat": 4,
 "nbformat_minor": 2
}
